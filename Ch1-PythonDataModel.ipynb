{
 "cells": [
  {
   "cell_type": "markdown",
   "metadata": {},
   "source": [
    "## pythonic Card Deck"
   ]
  },
  {
   "cell_type": "code",
   "execution_count": 7,
   "metadata": {},
   "outputs": [],
   "source": [
    "import collections\n",
    "# collections.namedtuple class with attributes no function\n",
    "# buit it have built in functions count,index\n",
    "Card = collections.namedtuple('Card',['rank',\"suit\"])\n",
    "\n",
    "class FrenchDeck:\n",
    "    ranks=[str(i) for i in range(2,11) ]+list(\"JQKA\")\n",
    "    suits= 'spades diamonds clubs hearts'.split()\n",
    "    def __init__(self):\n",
    "        self._cards=[Card(rank,suit) for rank in self.ranks\n",
    "                     for suit in self.suits]\n",
    "    def __len__(self):\n",
    "        return len(self._cards)\n",
    "    def __getitem__(self,position):\n",
    "        return self._cards[position]"
   ]
  },
  {
   "cell_type": "code",
   "execution_count": 21,
   "metadata": {},
   "outputs": [
    {
     "data": {
      "text/plain": [
       "'7'"
      ]
     },
     "execution_count": 21,
     "metadata": {},
     "output_type": "execute_result"
    }
   ],
   "source": [
    "a=Card(\"7\",\"lol\")\n",
    "a.rank #equal to whats bleow \n",
    "a[0]"
   ]
  },
  {
   "cell_type": "code",
   "execution_count": 29,
   "metadata": {},
   "outputs": [
    {
     "data": {
      "text/plain": [
       "Card(rank='2', suit='spades')"
      ]
     },
     "execution_count": 29,
     "metadata": {},
     "output_type": "execute_result"
    }
   ],
   "source": [
    "deck=FrenchDeck()\n",
    "len(deck)\n",
    "deck[0]"
   ]
  },
  {
   "cell_type": "code",
   "execution_count": 78,
   "metadata": {},
   "outputs": [
    {
     "data": {
      "text/plain": [
       "Card(rank='2', suit='spades')"
      ]
     },
     "execution_count": 78,
     "metadata": {},
     "output_type": "execute_result"
    }
   ],
   "source": [
    "from random import choice\n",
    "choice(deck)"
   ]
  },
  {
   "cell_type": "code",
   "execution_count": 79,
   "metadata": {},
   "outputs": [
    {
     "data": {
      "text/plain": [
       "[Card(rank='2', suit='spades'),\n",
       " Card(rank='2', suit='diamonds'),\n",
       " Card(rank='2', suit='clubs')]"
      ]
     },
     "execution_count": 79,
     "metadata": {},
     "output_type": "execute_result"
    }
   ],
   "source": [
    "deck[:3] # __getitem__ maake object auto‐matically supports slicing."
   ]
  },
  {
   "cell_type": "code",
   "execution_count": 80,
   "metadata": {
    "scrolled": true
   },
   "outputs": [
    {
     "name": "stdout",
     "output_type": "stream",
     "text": [
      "Card(rank='2', suit='spades')\n",
      "Card(rank='2', suit='diamonds')\n",
      "Card(rank='2', suit='clubs')\n",
      "Card(rank='2', suit='hearts')\n",
      "Card(rank='3', suit='spades')\n",
      "Card(rank='3', suit='diamonds')\n",
      "Card(rank='3', suit='clubs')\n",
      "Card(rank='3', suit='hearts')\n",
      "Card(rank='4', suit='spades')\n",
      "Card(rank='4', suit='diamonds')\n",
      "Card(rank='4', suit='clubs')\n",
      "Card(rank='4', suit='hearts')\n",
      "Card(rank='5', suit='spades')\n",
      "Card(rank='5', suit='diamonds')\n",
      "Card(rank='5', suit='clubs')\n",
      "Card(rank='5', suit='hearts')\n",
      "Card(rank='6', suit='spades')\n",
      "Card(rank='6', suit='diamonds')\n",
      "Card(rank='6', suit='clubs')\n",
      "Card(rank='6', suit='hearts')\n",
      "Card(rank='7', suit='spades')\n",
      "Card(rank='7', suit='diamonds')\n",
      "Card(rank='7', suit='clubs')\n",
      "Card(rank='7', suit='hearts')\n",
      "Card(rank='8', suit='spades')\n",
      "Card(rank='8', suit='diamonds')\n",
      "Card(rank='8', suit='clubs')\n",
      "Card(rank='8', suit='hearts')\n",
      "Card(rank='9', suit='spades')\n",
      "Card(rank='9', suit='diamonds')\n",
      "Card(rank='9', suit='clubs')\n",
      "Card(rank='9', suit='hearts')\n",
      "Card(rank='10', suit='spades')\n",
      "Card(rank='10', suit='diamonds')\n",
      "Card(rank='10', suit='clubs')\n",
      "Card(rank='10', suit='hearts')\n",
      "Card(rank='J', suit='spades')\n",
      "Card(rank='J', suit='diamonds')\n",
      "Card(rank='J', suit='clubs')\n",
      "Card(rank='J', suit='hearts')\n",
      "Card(rank='Q', suit='spades')\n",
      "Card(rank='Q', suit='diamonds')\n",
      "Card(rank='Q', suit='clubs')\n",
      "Card(rank='Q', suit='hearts')\n",
      "Card(rank='K', suit='spades')\n",
      "Card(rank='K', suit='diamonds')\n",
      "Card(rank='K', suit='clubs')\n",
      "Card(rank='K', suit='hearts')\n",
      "Card(rank='A', suit='spades')\n",
      "Card(rank='A', suit='diamonds')\n",
      "Card(rank='A', suit='clubs')\n",
      "Card(rank='A', suit='hearts')\n"
     ]
    }
   ],
   "source": [
    "for card in deck:  # __getitem__ make object iterable\n",
    "    print(card)"
   ]
  },
  {
   "cell_type": "markdown",
   "metadata": {},
   "source": [
    "### Note\n",
    "If a collection has no  dunder __contains__ method, the in operator does a sequential scan."
   ]
  },
  {
   "cell_type": "code",
   "execution_count": 83,
   "metadata": {},
   "outputs": [
    {
     "data": {
      "text/plain": [
       "False"
      ]
     },
     "execution_count": 83,
     "metadata": {},
     "output_type": "execute_result"
    }
   ],
   "source": [
    "Card('12', 'hearts') in deck"
   ]
  },
  {
   "cell_type": "code",
   "execution_count": 90,
   "metadata": {
    "collapsed": true
   },
   "outputs": [],
   "source": [
    "# Sorting\n",
    "suit_values = dict(spades=3, hearts=2, diamonds=1, clubs=0)\n",
    "def spades_high(card):\n",
    "    rank_value=FrenchDeck.ranks.index(card.rank)\n",
    "    suit_value=suit_values[card.suit]\n",
    "    return rank_value*len(suit_values)+suit_value"
   ]
  },
  {
   "cell_type": "code",
   "execution_count": 92,
   "metadata": {},
   "outputs": [
    {
     "data": {
      "text/plain": [
       "Card(rank='A', suit='hearts')"
      ]
     },
     "execution_count": 92,
     "metadata": {},
     "output_type": "execute_result"
    }
   ],
   "source": [
    "card"
   ]
  },
  {
   "cell_type": "code",
   "execution_count": 91,
   "metadata": {},
   "outputs": [
    {
     "data": {
      "text/plain": [
       "50"
      ]
     },
     "execution_count": 91,
     "metadata": {},
     "output_type": "execute_result"
    }
   ],
   "source": [
    "spades_high(card)"
   ]
  },
  {
   "cell_type": "code",
   "execution_count": 93,
   "metadata": {},
   "outputs": [
    {
     "name": "stdout",
     "output_type": "stream",
     "text": [
      "Card(rank='2', suit='spades')\n",
      "Card(rank='2', suit='diamonds')\n",
      "Card(rank='2', suit='clubs')\n",
      "Card(rank='2', suit='hearts')\n",
      "Card(rank='3', suit='spades')\n",
      "Card(rank='3', suit='diamonds')\n",
      "Card(rank='3', suit='clubs')\n",
      "Card(rank='3', suit='hearts')\n",
      "Card(rank='4', suit='spades')\n",
      "Card(rank='4', suit='diamonds')\n",
      "Card(rank='4', suit='clubs')\n",
      "Card(rank='4', suit='hearts')\n",
      "Card(rank='5', suit='spades')\n",
      "Card(rank='5', suit='diamonds')\n",
      "Card(rank='5', suit='clubs')\n",
      "Card(rank='5', suit='hearts')\n",
      "Card(rank='6', suit='spades')\n",
      "Card(rank='6', suit='diamonds')\n",
      "Card(rank='6', suit='clubs')\n",
      "Card(rank='6', suit='hearts')\n",
      "Card(rank='7', suit='spades')\n",
      "Card(rank='7', suit='diamonds')\n",
      "Card(rank='7', suit='clubs')\n",
      "Card(rank='7', suit='hearts')\n",
      "Card(rank='8', suit='spades')\n",
      "Card(rank='8', suit='diamonds')\n",
      "Card(rank='8', suit='clubs')\n",
      "Card(rank='8', suit='hearts')\n",
      "Card(rank='9', suit='spades')\n",
      "Card(rank='9', suit='diamonds')\n",
      "Card(rank='9', suit='clubs')\n",
      "Card(rank='9', suit='hearts')\n",
      "Card(rank='10', suit='spades')\n",
      "Card(rank='10', suit='diamonds')\n",
      "Card(rank='10', suit='clubs')\n",
      "Card(rank='10', suit='hearts')\n",
      "Card(rank='J', suit='spades')\n",
      "Card(rank='J', suit='diamonds')\n",
      "Card(rank='J', suit='clubs')\n",
      "Card(rank='J', suit='hearts')\n",
      "Card(rank='Q', suit='spades')\n",
      "Card(rank='Q', suit='diamonds')\n",
      "Card(rank='Q', suit='clubs')\n",
      "Card(rank='Q', suit='hearts')\n",
      "Card(rank='K', suit='spades')\n",
      "Card(rank='K', suit='diamonds')\n",
      "Card(rank='K', suit='clubs')\n",
      "Card(rank='K', suit='hearts')\n",
      "Card(rank='A', suit='spades')\n",
      "Card(rank='A', suit='diamonds')\n",
      "Card(rank='A', suit='clubs')\n",
      "Card(rank='A', suit='hearts')\n"
     ]
    }
   ],
   "source": [
    "for card in deck:\n",
    "    print(card)"
   ]
  },
  {
   "cell_type": "code",
   "execution_count": 94,
   "metadata": {},
   "outputs": [
    {
     "name": "stdout",
     "output_type": "stream",
     "text": [
      "Card(rank='2', suit='clubs')\n",
      "Card(rank='2', suit='diamonds')\n",
      "Card(rank='2', suit='hearts')\n",
      "Card(rank='2', suit='spades')\n",
      "Card(rank='3', suit='clubs')\n",
      "Card(rank='3', suit='diamonds')\n",
      "Card(rank='3', suit='hearts')\n",
      "Card(rank='3', suit='spades')\n",
      "Card(rank='4', suit='clubs')\n",
      "Card(rank='4', suit='diamonds')\n",
      "Card(rank='4', suit='hearts')\n",
      "Card(rank='4', suit='spades')\n",
      "Card(rank='5', suit='clubs')\n",
      "Card(rank='5', suit='diamonds')\n",
      "Card(rank='5', suit='hearts')\n",
      "Card(rank='5', suit='spades')\n",
      "Card(rank='6', suit='clubs')\n",
      "Card(rank='6', suit='diamonds')\n",
      "Card(rank='6', suit='hearts')\n",
      "Card(rank='6', suit='spades')\n",
      "Card(rank='7', suit='clubs')\n",
      "Card(rank='7', suit='diamonds')\n",
      "Card(rank='7', suit='hearts')\n",
      "Card(rank='7', suit='spades')\n",
      "Card(rank='8', suit='clubs')\n",
      "Card(rank='8', suit='diamonds')\n",
      "Card(rank='8', suit='hearts')\n",
      "Card(rank='8', suit='spades')\n",
      "Card(rank='9', suit='clubs')\n",
      "Card(rank='9', suit='diamonds')\n",
      "Card(rank='9', suit='hearts')\n",
      "Card(rank='9', suit='spades')\n",
      "Card(rank='10', suit='clubs')\n",
      "Card(rank='10', suit='diamonds')\n",
      "Card(rank='10', suit='hearts')\n",
      "Card(rank='10', suit='spades')\n",
      "Card(rank='J', suit='clubs')\n",
      "Card(rank='J', suit='diamonds')\n",
      "Card(rank='J', suit='hearts')\n",
      "Card(rank='J', suit='spades')\n",
      "Card(rank='Q', suit='clubs')\n",
      "Card(rank='Q', suit='diamonds')\n",
      "Card(rank='Q', suit='hearts')\n",
      "Card(rank='Q', suit='spades')\n",
      "Card(rank='K', suit='clubs')\n",
      "Card(rank='K', suit='diamonds')\n",
      "Card(rank='K', suit='hearts')\n",
      "Card(rank='K', suit='spades')\n",
      "Card(rank='A', suit='clubs')\n",
      "Card(rank='A', suit='diamonds')\n",
      "Card(rank='A', suit='hearts')\n",
      "Card(rank='A', suit='spades')\n"
     ]
    }
   ],
   "source": [
    "for card in sorted(deck,key=spades_high):\n",
    "    print(card)"
   ]
  },
  {
   "cell_type": "markdown",
   "metadata": {},
   "source": [
    "### mutability \n",
    "\n",
    "Common immutable type:\n",
    "\n",
    "    numbers: int(), float(), complex()\n",
    "    immutable sequences: str(), tuple(), frozenset(), bytes()\n",
    "\n",
    "Common mutable type (almost everything else):\n",
    "\n",
    "    mutable sequences: list(), bytearray()\n",
    "    set type: set()\n",
    "    mapping type: dict()\n",
    "custom classes are mutable"
   ]
  },
  {
   "cell_type": "markdown",
   "metadata": {},
   "source": [
    "## More about special functions"
   ]
  },
  {
   "cell_type": "code",
   "execution_count": 102,
   "metadata": {
    "collapsed": true
   },
   "outputs": [],
   "source": [
    "from math import hypot\n",
    "class Vector:\n",
    "    def __init__(self,x=0,y=0):\n",
    "        self.x=x        \n",
    "        self.y=y\n",
    "    def __abs__(self):\n",
    "        return hypot(self.x, self.y)\n",
    "        \n",
    "    def __repr__(self):\n",
    "        return 'Vector(%r, %r)' % (self.x, self.y)\n",
    "    def __bool__(self):\n",
    "        return bool(abs(self))\n",
    "    def __add__(self,other):\n",
    "        x=self.x+other.x\n",
    "        y=self.y+other.y\n",
    "        return Vector(x,y)\n",
    "    def __mul__(self,scaler):\n",
    "        x=self.x*scaler\n",
    "        y=self.y*scaler\n",
    "        return Vector(x,y)\n",
    "    \n",
    "    "
   ]
  },
  {
   "cell_type": "markdown",
   "metadata": {},
   "source": [
    "## note\n",
    "if you override __repr__, that's ALSO used for __str__, but not vice versa."
   ]
  },
  {
   "cell_type": "code",
   "execution_count": 103,
   "metadata": {
    "collapsed": true
   },
   "outputs": [],
   "source": [
    "v1=Vector(3,4)\n",
    "v2=Vector(6,8)"
   ]
  },
  {
   "cell_type": "code",
   "execution_count": 105,
   "metadata": {},
   "outputs": [
    {
     "data": {
      "text/plain": [
       "Vector(9, 12)"
      ]
     },
     "execution_count": 105,
     "metadata": {},
     "output_type": "execute_result"
    }
   ],
   "source": [
    "v1+v2"
   ]
  },
  {
   "cell_type": "code",
   "execution_count": 106,
   "metadata": {},
   "outputs": [
    {
     "data": {
      "text/plain": [
       "5.0"
      ]
     },
     "execution_count": 106,
     "metadata": {},
     "output_type": "execute_result"
    }
   ],
   "source": [
    "abs(v1)"
   ]
  },
  {
   "cell_type": "code",
   "execution_count": 107,
   "metadata": {},
   "outputs": [
    {
     "data": {
      "text/plain": [
       "Vector(9, 12)"
      ]
     },
     "execution_count": 107,
     "metadata": {},
     "output_type": "execute_result"
    }
   ],
   "source": [
    "v1*3 # not 3*v1"
   ]
  },
  {
   "cell_type": "code",
   "execution_count": 108,
   "metadata": {},
   "outputs": [
    {
     "ename": "TypeError",
     "evalue": "unsupported operand type(s) for *: 'int' and 'Vector'",
     "output_type": "error",
     "traceback": [
      "\u001b[0;31m---------------------------------------------------------------------------\u001b[0m",
      "\u001b[0;31mTypeError\u001b[0m                                 Traceback (most recent call last)",
      "\u001b[0;32m<ipython-input-108-cac01e171522>\u001b[0m in \u001b[0;36m<module>\u001b[0;34m()\u001b[0m\n\u001b[0;32m----> 1\u001b[0;31m \u001b[0mv1\u001b[0m\u001b[0;34m*\u001b[0m\u001b[0mv2\u001b[0m\u001b[0;34m\u001b[0m\u001b[0m\n\u001b[0m",
      "\u001b[0;32m<ipython-input-102-ba1f10b27e43>\u001b[0m in \u001b[0;36m__mul__\u001b[0;34m(self, scaler)\u001b[0m\n\u001b[1;32m     16\u001b[0m         \u001b[0;32mreturn\u001b[0m \u001b[0mVector\u001b[0m\u001b[0;34m(\u001b[0m\u001b[0mx\u001b[0m\u001b[0;34m,\u001b[0m\u001b[0my\u001b[0m\u001b[0;34m)\u001b[0m\u001b[0;34m\u001b[0m\u001b[0m\n\u001b[1;32m     17\u001b[0m     \u001b[0;32mdef\u001b[0m \u001b[0m__mul__\u001b[0m\u001b[0;34m(\u001b[0m\u001b[0mself\u001b[0m\u001b[0;34m,\u001b[0m\u001b[0mscaler\u001b[0m\u001b[0;34m)\u001b[0m\u001b[0;34m:\u001b[0m\u001b[0;34m\u001b[0m\u001b[0m\n\u001b[0;32m---> 18\u001b[0;31m         \u001b[0mx\u001b[0m\u001b[0;34m=\u001b[0m\u001b[0mself\u001b[0m\u001b[0;34m.\u001b[0m\u001b[0mx\u001b[0m\u001b[0;34m*\u001b[0m\u001b[0mscaler\u001b[0m\u001b[0;34m\u001b[0m\u001b[0m\n\u001b[0m\u001b[1;32m     19\u001b[0m         \u001b[0my\u001b[0m\u001b[0;34m=\u001b[0m\u001b[0mself\u001b[0m\u001b[0;34m.\u001b[0m\u001b[0my\u001b[0m\u001b[0;34m*\u001b[0m\u001b[0mscaler\u001b[0m\u001b[0;34m\u001b[0m\u001b[0m\n\u001b[1;32m     20\u001b[0m         \u001b[0;32mreturn\u001b[0m \u001b[0mVector\u001b[0m\u001b[0;34m(\u001b[0m\u001b[0mx\u001b[0m\u001b[0;34m,\u001b[0m\u001b[0my\u001b[0m\u001b[0;34m)\u001b[0m\u001b[0;34m\u001b[0m\u001b[0m\n",
      "\u001b[0;31mTypeError\u001b[0m: unsupported operand type(s) for *: 'int' and 'Vector'"
     ]
    }
   ],
   "source": [
    "v1*v2"
   ]
  },
  {
   "cell_type": "code",
   "execution_count": 112,
   "metadata": {},
   "outputs": [
    {
     "data": {
      "text/plain": [
       "True"
      ]
     },
     "execution_count": 112,
     "metadata": {},
     "output_type": "execute_result"
    }
   ],
   "source": [
    "bool(v1)"
   ]
  },
  {
   "cell_type": "markdown",
   "metadata": {},
   "source": [
    "### referances\n",
    "*  [immutable-vs-mutable-types](https://stackoverflow.com/questions/8056130/immutable-vs-mutable-types)\n",
    "* [the-zen-of-python](https://www.python.org/doc/humor/#the-zen-of-python)"
   ]
  },
  {
   "cell_type": "code",
   "execution_count": null,
   "metadata": {
    "collapsed": true
   },
   "outputs": [],
   "source": []
  }
 ],
 "metadata": {
  "kernelspec": {
   "display_name": "Python [default]",
   "language": "python",
   "name": "python3"
  },
  "language_info": {
   "codemirror_mode": {
    "name": "ipython",
    "version": 3
   },
   "file_extension": ".py",
   "mimetype": "text/x-python",
   "name": "python",
   "nbconvert_exporter": "python",
   "pygments_lexer": "ipython3",
   "version": "3.6.2"
  }
 },
 "nbformat": 4,
 "nbformat_minor": 2
}
